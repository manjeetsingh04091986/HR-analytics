{
 "cells": [
  {
   "cell_type": "code",
   "execution_count": 638,
   "metadata": {},
   "outputs": [],
   "source": [
    "import numpy as np\n",
    "import pandas as pd\n",
    "import matplotlib.pyplot as plt\n",
    "from sklearn.model_selection import train_test_split\n",
    "from sklearn.metrics import classification_report\n",
    "from sklearn.metrics import confusion_matrix\n",
    "from sklearn.linear_model import LogisticRegression\n",
    "from sklearn.preprocessing import Imputer\n",
    "import seaborn as sns\n",
    "from sklearn.ensemble import RandomForestClassifier\n",
    "from sklearn.feature_selection import RFE\n",
    "from sklearn.svm import SVC"
   ]
  },
  {
   "cell_type": "code",
   "execution_count": 639,
   "metadata": {},
   "outputs": [],
   "source": [
    "df = pd.read_csv('C:/Users/manjeet.singh/Desktop/A_T.csv')"
   ]
  },
  {
   "cell_type": "code",
   "execution_count": 640,
   "metadata": {},
   "outputs": [
    {
     "name": "stdout",
     "output_type": "stream",
     "text": [
      "['C1', 'C2', 'C3', 'C4', 'C5', 'C6', 'C7', 'C8', 'C9', 'C10', 'C11', 'C12', 'C13', 'C14', 'C15', 'Hired']\n",
      "<class 'pandas.core.frame.DataFrame'>\n",
      "RangeIndex: 690 entries, 0 to 689\n",
      "Data columns (total 16 columns):\n",
      "C1       690 non-null object\n",
      "C2       690 non-null float64\n",
      "C3       690 non-null float64\n",
      "C4       690 non-null object\n",
      "C5       690 non-null object\n",
      "C6       690 non-null object\n",
      "C7       690 non-null object\n",
      "C8       690 non-null float64\n",
      "C9       690 non-null object\n",
      "C10      690 non-null object\n",
      "C11      690 non-null int64\n",
      "C12      690 non-null object\n",
      "C13      690 non-null object\n",
      "C14      690 non-null int64\n",
      "C15      690 non-null int64\n",
      "Hired    690 non-null int64\n",
      "dtypes: float64(3), int64(4), object(9)\n",
      "memory usage: 86.3+ KB\n"
     ]
    },
    {
     "data": {
      "text/plain": [
       "C1       False\n",
       "C2       False\n",
       "C3       False\n",
       "C4       False\n",
       "C5       False\n",
       "C6       False\n",
       "C7       False\n",
       "C8       False\n",
       "C9       False\n",
       "C10      False\n",
       "C11      False\n",
       "C12      False\n",
       "C13      False\n",
       "C14      False\n",
       "C15      False\n",
       "Hired    False\n",
       "dtype: bool"
      ]
     },
     "execution_count": 640,
     "metadata": {},
     "output_type": "execute_result"
    }
   ],
   "source": [
    "print(list(df.columns))\n",
    "df.info()\n",
    "df.head()\n",
    "df.shape\n",
    "df.isnull().any()"
   ]
  },
  {
   "cell_type": "markdown",
   "metadata": {},
   "source": [
    "Our data is pretty clean, no missing values."
   ]
  },
  {
   "cell_type": "markdown",
   "metadata": {},
   "source": [
    "describe() method will give us some basic summary statistics about various fields of the dataset. \n",
    "Let's run some summary statistics to get an insight into what we are dealing with:"
   ]
  },
  {
   "cell_type": "code",
   "execution_count": 641,
   "metadata": {},
   "outputs": [
    {
     "data": {
      "text/html": [
       "<div>\n",
       "<style scoped>\n",
       "    .dataframe tbody tr th:only-of-type {\n",
       "        vertical-align: middle;\n",
       "    }\n",
       "\n",
       "    .dataframe tbody tr th {\n",
       "        vertical-align: top;\n",
       "    }\n",
       "\n",
       "    .dataframe thead th {\n",
       "        text-align: right;\n",
       "    }\n",
       "</style>\n",
       "<table border=\"1\" class=\"dataframe\">\n",
       "  <thead>\n",
       "    <tr style=\"text-align: right;\">\n",
       "      <th></th>\n",
       "      <th>C2</th>\n",
       "      <th>C3</th>\n",
       "      <th>C8</th>\n",
       "      <th>C11</th>\n",
       "      <th>C14</th>\n",
       "      <th>C15</th>\n",
       "      <th>Hired</th>\n",
       "    </tr>\n",
       "  </thead>\n",
       "  <tbody>\n",
       "    <tr>\n",
       "      <th>count</th>\n",
       "      <td>690.000000</td>\n",
       "      <td>690.000000</td>\n",
       "      <td>690.000000</td>\n",
       "      <td>690.00000</td>\n",
       "      <td>690.000000</td>\n",
       "      <td>690.000000</td>\n",
       "      <td>690.000000</td>\n",
       "    </tr>\n",
       "    <tr>\n",
       "      <th>mean</th>\n",
       "      <td>31.019159</td>\n",
       "      <td>4.758725</td>\n",
       "      <td>2.223406</td>\n",
       "      <td>2.40000</td>\n",
       "      <td>180.547826</td>\n",
       "      <td>1017.385507</td>\n",
       "      <td>0.444928</td>\n",
       "    </tr>\n",
       "    <tr>\n",
       "      <th>std</th>\n",
       "      <td>12.552078</td>\n",
       "      <td>4.978163</td>\n",
       "      <td>3.346513</td>\n",
       "      <td>4.86294</td>\n",
       "      <td>173.970323</td>\n",
       "      <td>5210.102598</td>\n",
       "      <td>0.497318</td>\n",
       "    </tr>\n",
       "    <tr>\n",
       "      <th>min</th>\n",
       "      <td>0.000000</td>\n",
       "      <td>0.000000</td>\n",
       "      <td>0.000000</td>\n",
       "      <td>0.00000</td>\n",
       "      <td>0.000000</td>\n",
       "      <td>0.000000</td>\n",
       "      <td>0.000000</td>\n",
       "    </tr>\n",
       "    <tr>\n",
       "      <th>25%</th>\n",
       "      <td>22.440000</td>\n",
       "      <td>1.000000</td>\n",
       "      <td>0.165000</td>\n",
       "      <td>0.00000</td>\n",
       "      <td>60.000000</td>\n",
       "      <td>0.000000</td>\n",
       "      <td>0.000000</td>\n",
       "    </tr>\n",
       "    <tr>\n",
       "      <th>50%</th>\n",
       "      <td>28.170000</td>\n",
       "      <td>2.750000</td>\n",
       "      <td>1.000000</td>\n",
       "      <td>0.00000</td>\n",
       "      <td>160.000000</td>\n",
       "      <td>5.000000</td>\n",
       "      <td>0.000000</td>\n",
       "    </tr>\n",
       "    <tr>\n",
       "      <th>75%</th>\n",
       "      <td>37.707500</td>\n",
       "      <td>7.207500</td>\n",
       "      <td>2.625000</td>\n",
       "      <td>3.00000</td>\n",
       "      <td>272.000000</td>\n",
       "      <td>395.500000</td>\n",
       "      <td>1.000000</td>\n",
       "    </tr>\n",
       "    <tr>\n",
       "      <th>max</th>\n",
       "      <td>80.250000</td>\n",
       "      <td>28.000000</td>\n",
       "      <td>28.500000</td>\n",
       "      <td>67.00000</td>\n",
       "      <td>2000.000000</td>\n",
       "      <td>100000.000000</td>\n",
       "      <td>1.000000</td>\n",
       "    </tr>\n",
       "  </tbody>\n",
       "</table>\n",
       "</div>"
      ],
      "text/plain": [
       "               C2          C3          C8        C11          C14  \\\n",
       "count  690.000000  690.000000  690.000000  690.00000   690.000000   \n",
       "mean    31.019159    4.758725    2.223406    2.40000   180.547826   \n",
       "std     12.552078    4.978163    3.346513    4.86294   173.970323   \n",
       "min      0.000000    0.000000    0.000000    0.00000     0.000000   \n",
       "25%     22.440000    1.000000    0.165000    0.00000    60.000000   \n",
       "50%     28.170000    2.750000    1.000000    0.00000   160.000000   \n",
       "75%     37.707500    7.207500    2.625000    3.00000   272.000000   \n",
       "max     80.250000   28.000000   28.500000   67.00000  2000.000000   \n",
       "\n",
       "                 C15       Hired  \n",
       "count     690.000000  690.000000  \n",
       "mean     1017.385507    0.444928  \n",
       "std      5210.102598    0.497318  \n",
       "min         0.000000    0.000000  \n",
       "25%         0.000000    0.000000  \n",
       "50%         5.000000    0.000000  \n",
       "75%       395.500000    1.000000  \n",
       "max    100000.000000    1.000000  "
      ]
     },
     "execution_count": 641,
     "metadata": {},
     "output_type": "execute_result"
    }
   ],
   "source": [
    "df.describe()"
   ]
  },
  {
   "cell_type": "markdown",
   "metadata": {},
   "source": [
    "# Data Exploring - distribution of numeric variables"
   ]
  },
  {
   "cell_type": "markdown",
   "metadata": {},
   "source": [
    "The “Hired” column is the outcome variable recording 1 and 0. 1 for Candidates who got hired the company and 0 for those who didn't.\n",
    "\n",
    "First of all, let us find out the number of candidates who got hired the company and those who didn’t:"
   ]
  },
  {
   "cell_type": "code",
   "execution_count": 642,
   "metadata": {},
   "outputs": [
    {
     "data": {
      "text/plain": [
       "0    383\n",
       "1    307\n",
       "Name: Hired, dtype: int64"
      ]
     },
     "execution_count": 642,
     "metadata": {},
     "output_type": "execute_result"
    }
   ],
   "source": [
    "df['Hired'].value_counts()"
   ]
  },
  {
   "cell_type": "markdown",
   "metadata": {},
   "source": [
    "There are 307 Candidates hired and 383 Candidates not hired our data.\n"
   ]
  },
  {
   "cell_type": "code",
   "execution_count": 643,
   "metadata": {},
   "outputs": [
    {
     "data": {
      "image/png": "[encoded data removed]",
      "text/plain": [
       "<Figure size 432x288 with 1 Axes>"
      ]
     },
     "metadata": {},
     "output_type": "display_data"
    },
    {
     "data": {
      "text/plain": [
       "<Figure size 432x288 with 0 Axes>"
      ]
     },
     "metadata": {},
     "output_type": "display_data"
    }
   ],
   "source": [
    "sns.countplot(x='Hired', data= df, palette ='hls')\n",
    "plt.show()\n",
    "plt.savefig('countplot')"
   ]
  },
  {
   "cell_type": "markdown",
   "metadata": {},
   "source": [
    "Let us get a sense of the numbers across these two classes:\n"
   ]
  },
  {
   "cell_type": "code",
   "execution_count": 644,
   "metadata": {},
   "outputs": [
    {
     "data": {
      "text/html": [
       "<div>\n",
       "<style scoped>\n",
       "    .dataframe tbody tr th:only-of-type {\n",
       "        vertical-align: middle;\n",
       "    }\n",
       "\n",
       "    .dataframe tbody tr th {\n",
       "        vertical-align: top;\n",
       "    }\n",
       "\n",
       "    .dataframe thead th {\n",
       "        text-align: right;\n",
       "    }\n",
       "</style>\n",
       "<table border=\"1\" class=\"dataframe\">\n",
       "  <thead>\n",
       "    <tr style=\"text-align: right;\">\n",
       "      <th></th>\n",
       "      <th>C2</th>\n",
       "      <th>C3</th>\n",
       "      <th>C8</th>\n",
       "      <th>C11</th>\n",
       "      <th>C14</th>\n",
       "      <th>C15</th>\n",
       "    </tr>\n",
       "    <tr>\n",
       "      <th>Hired</th>\n",
       "      <th></th>\n",
       "      <th></th>\n",
       "      <th></th>\n",
       "      <th></th>\n",
       "      <th></th>\n",
       "      <th></th>\n",
       "    </tr>\n",
       "  </thead>\n",
       "  <tbody>\n",
       "    <tr>\n",
       "      <th>0</th>\n",
       "      <td>29.029948</td>\n",
       "      <td>3.839948</td>\n",
       "      <td>1.257924</td>\n",
       "      <td>0.631854</td>\n",
       "      <td>196.049608</td>\n",
       "      <td>198.605744</td>\n",
       "    </tr>\n",
       "    <tr>\n",
       "      <th>1</th>\n",
       "      <td>33.500814</td>\n",
       "      <td>5.904951</td>\n",
       "      <td>3.427899</td>\n",
       "      <td>4.605863</td>\n",
       "      <td>161.208469</td>\n",
       "      <td>2038.859935</td>\n",
       "    </tr>\n",
       "  </tbody>\n",
       "</table>\n",
       "</div>"
      ],
      "text/plain": [
       "              C2        C3        C8       C11         C14          C15\n",
       "Hired                                                                  \n",
       "0      29.029948  3.839948  1.257924  0.631854  196.049608   198.605744\n",
       "1      33.500814  5.904951  3.427899  4.605863  161.208469  2038.859935"
      ]
     },
     "execution_count": 644,
     "metadata": {},
     "output_type": "execute_result"
    }
   ],
   "source": [
    "df.groupby('Hired').mean()\n"
   ]
  },
  {
   "cell_type": "markdown",
   "metadata": {},
   "source": [
    "Several observations:\n",
    "\n",
    "The average C2,C3,C8,C11, C15 of candidate who got hired  is higher than that of the cndidate who didnt.\n",
    "The average C 14 of candidate who didnt get hired  is higher than that of the cndidate who got hired."
   ]
  },
  {
   "cell_type": "markdown",
   "metadata": {},
   "source": [
    "lets Check few other variables too."
   ]
  },
  {
   "cell_type": "code",
   "execution_count": 277,
   "metadata": {},
   "outputs": [
    {
     "data": {
      "text/html": [
       "<div>\n",
       "<style scoped>\n",
       "    .dataframe tbody tr th:only-of-type {\n",
       "        vertical-align: middle;\n",
       "    }\n",
       "\n",
       "    .dataframe tbody tr th {\n",
       "        vertical-align: top;\n",
       "    }\n",
       "\n",
       "    .dataframe thead th {\n",
       "        text-align: right;\n",
       "    }\n",
       "</style>\n",
       "<table border=\"1\" class=\"dataframe\">\n",
       "  <thead>\n",
       "    <tr style=\"text-align: right;\">\n",
       "      <th></th>\n",
       "      <th>C2</th>\n",
       "      <th>C3</th>\n",
       "      <th>C8</th>\n",
       "      <th>C11</th>\n",
       "      <th>C14</th>\n",
       "      <th>C15</th>\n",
       "      <th>Hired</th>\n",
       "    </tr>\n",
       "    <tr>\n",
       "      <th>C1</th>\n",
       "      <th></th>\n",
       "      <th></th>\n",
       "      <th></th>\n",
       "      <th></th>\n",
       "      <th></th>\n",
       "      <th></th>\n",
       "      <th></th>\n",
       "    </tr>\n",
       "  </thead>\n",
       "  <tbody>\n",
       "    <tr>\n",
       "      <th>?</th>\n",
       "      <td>31.062500</td>\n",
       "      <td>3.027917</td>\n",
       "      <td>1.166667</td>\n",
       "      <td>0.333333</td>\n",
       "      <td>292.833333</td>\n",
       "      <td>227.583333</td>\n",
       "      <td>0.250000</td>\n",
       "    </tr>\n",
       "    <tr>\n",
       "      <th>a</th>\n",
       "      <td>30.479619</td>\n",
       "      <td>5.072690</td>\n",
       "      <td>1.785857</td>\n",
       "      <td>2.580952</td>\n",
       "      <td>157.942857</td>\n",
       "      <td>1033.623810</td>\n",
       "      <td>0.466667</td>\n",
       "    </tr>\n",
       "    <tr>\n",
       "      <th>b</th>\n",
       "      <td>31.260150</td>\n",
       "      <td>4.662222</td>\n",
       "      <td>2.446838</td>\n",
       "      <td>2.371795</td>\n",
       "      <td>187.811966</td>\n",
       "      <td>1030.350427</td>\n",
       "      <td>0.440171</td>\n",
       "    </tr>\n",
       "  </tbody>\n",
       "</table>\n",
       "</div>"
      ],
      "text/plain": [
       "           C2        C3        C8       C11         C14          C15     Hired\n",
       "C1                                                                            \n",
       "?   31.062500  3.027917  1.166667  0.333333  292.833333   227.583333  0.250000\n",
       "a   30.479619  5.072690  1.785857  2.580952  157.942857  1033.623810  0.466667\n",
       "b   31.260150  4.662222  2.446838  2.371795  187.811966  1030.350427  0.440171"
      ]
     },
     "execution_count": 277,
     "metadata": {},
     "output_type": "execute_result"
    }
   ],
   "source": [
    "df.groupby('C1').mean()\n"
   ]
  },
  {
   "cell_type": "code",
   "execution_count": 278,
   "metadata": {},
   "outputs": [
    {
     "data": {
      "text/html": [
       "<div>\n",
       "<style scoped>\n",
       "    .dataframe tbody tr th:only-of-type {\n",
       "        vertical-align: middle;\n",
       "    }\n",
       "\n",
       "    .dataframe tbody tr th {\n",
       "        vertical-align: top;\n",
       "    }\n",
       "\n",
       "    .dataframe thead th {\n",
       "        text-align: right;\n",
       "    }\n",
       "</style>\n",
       "<table border=\"1\" class=\"dataframe\">\n",
       "  <thead>\n",
       "    <tr style=\"text-align: right;\">\n",
       "      <th></th>\n",
       "      <th>C2</th>\n",
       "      <th>C3</th>\n",
       "      <th>C8</th>\n",
       "      <th>C11</th>\n",
       "      <th>C14</th>\n",
       "      <th>C15</th>\n",
       "      <th>Hired</th>\n",
       "    </tr>\n",
       "    <tr>\n",
       "      <th>C4</th>\n",
       "      <th></th>\n",
       "      <th></th>\n",
       "      <th></th>\n",
       "      <th></th>\n",
       "      <th></th>\n",
       "      <th></th>\n",
       "      <th></th>\n",
       "    </tr>\n",
       "  </thead>\n",
       "  <tbody>\n",
       "    <tr>\n",
       "      <th>?</th>\n",
       "      <td>35.485000</td>\n",
       "      <td>0.000000</td>\n",
       "      <td>0.000000</td>\n",
       "      <td>0.000000</td>\n",
       "      <td>0.000000</td>\n",
       "      <td>0.000000</td>\n",
       "      <td>0.666667</td>\n",
       "    </tr>\n",
       "    <tr>\n",
       "      <th>l</th>\n",
       "      <td>17.790000</td>\n",
       "      <td>11.187500</td>\n",
       "      <td>5.000000</td>\n",
       "      <td>0.000000</td>\n",
       "      <td>375.000000</td>\n",
       "      <td>50000.000000</td>\n",
       "      <td>1.000000</td>\n",
       "    </tr>\n",
       "    <tr>\n",
       "      <th>u</th>\n",
       "      <td>31.748189</td>\n",
       "      <td>5.024326</td>\n",
       "      <td>2.381753</td>\n",
       "      <td>2.741811</td>\n",
       "      <td>180.951830</td>\n",
       "      <td>1008.778420</td>\n",
       "      <td>0.493256</td>\n",
       "    </tr>\n",
       "    <tr>\n",
       "      <th>y</th>\n",
       "      <td>28.695828</td>\n",
       "      <td>4.009325</td>\n",
       "      <td>1.766994</td>\n",
       "      <td>1.429448</td>\n",
       "      <td>183.521472</td>\n",
       "      <td>481.226994</td>\n",
       "      <td>0.276074</td>\n",
       "    </tr>\n",
       "  </tbody>\n",
       "</table>\n",
       "</div>"
      ],
      "text/plain": [
       "           C2         C3        C8       C11         C14           C15  \\\n",
       "C4                                                                       \n",
       "?   35.485000   0.000000  0.000000  0.000000    0.000000      0.000000   \n",
       "l   17.790000  11.187500  5.000000  0.000000  375.000000  50000.000000   \n",
       "u   31.748189   5.024326  2.381753  2.741811  180.951830   1008.778420   \n",
       "y   28.695828   4.009325  1.766994  1.429448  183.521472    481.226994   \n",
       "\n",
       "       Hired  \n",
       "C4            \n",
       "?   0.666667  \n",
       "l   1.000000  \n",
       "u   0.493256  \n",
       "y   0.276074  "
      ]
     },
     "execution_count": 278,
     "metadata": {},
     "output_type": "execute_result"
    }
   ],
   "source": [
    "df.groupby('C4').mean()\n"
   ]
  },
  {
   "cell_type": "code",
   "execution_count": 279,
   "metadata": {},
   "outputs": [
    {
     "data": {
      "text/html": [
       "<div>\n",
       "<style scoped>\n",
       "    .dataframe tbody tr th:only-of-type {\n",
       "        vertical-align: middle;\n",
       "    }\n",
       "\n",
       "    .dataframe tbody tr th {\n",
       "        vertical-align: top;\n",
       "    }\n",
       "\n",
       "    .dataframe thead th {\n",
       "        text-align: right;\n",
       "    }\n",
       "</style>\n",
       "<table border=\"1\" class=\"dataframe\">\n",
       "  <thead>\n",
       "    <tr style=\"text-align: right;\">\n",
       "      <th></th>\n",
       "      <th>C2</th>\n",
       "      <th>C3</th>\n",
       "      <th>C8</th>\n",
       "      <th>C11</th>\n",
       "      <th>C14</th>\n",
       "      <th>C15</th>\n",
       "      <th>Hired</th>\n",
       "    </tr>\n",
       "    <tr>\n",
       "      <th>C5</th>\n",
       "      <th></th>\n",
       "      <th></th>\n",
       "      <th></th>\n",
       "      <th></th>\n",
       "      <th></th>\n",
       "      <th></th>\n",
       "      <th></th>\n",
       "    </tr>\n",
       "  </thead>\n",
       "  <tbody>\n",
       "    <tr>\n",
       "      <th>?</th>\n",
       "      <td>35.485000</td>\n",
       "      <td>0.000000</td>\n",
       "      <td>0.000000</td>\n",
       "      <td>0.000000</td>\n",
       "      <td>0.000000</td>\n",
       "      <td>0.000000</td>\n",
       "      <td>0.666667</td>\n",
       "    </tr>\n",
       "    <tr>\n",
       "      <th>g</th>\n",
       "      <td>31.748189</td>\n",
       "      <td>5.024326</td>\n",
       "      <td>2.381753</td>\n",
       "      <td>2.741811</td>\n",
       "      <td>180.951830</td>\n",
       "      <td>1008.778420</td>\n",
       "      <td>0.493256</td>\n",
       "    </tr>\n",
       "    <tr>\n",
       "      <th>gg</th>\n",
       "      <td>17.790000</td>\n",
       "      <td>11.187500</td>\n",
       "      <td>5.000000</td>\n",
       "      <td>0.000000</td>\n",
       "      <td>375.000000</td>\n",
       "      <td>50000.000000</td>\n",
       "      <td>1.000000</td>\n",
       "    </tr>\n",
       "    <tr>\n",
       "      <th>p</th>\n",
       "      <td>28.695828</td>\n",
       "      <td>4.009325</td>\n",
       "      <td>1.766994</td>\n",
       "      <td>1.429448</td>\n",
       "      <td>183.521472</td>\n",
       "      <td>481.226994</td>\n",
       "      <td>0.276074</td>\n",
       "    </tr>\n",
       "  </tbody>\n",
       "</table>\n",
       "</div>"
      ],
      "text/plain": [
       "           C2         C3        C8       C11         C14           C15  \\\n",
       "C5                                                                       \n",
       "?   35.485000   0.000000  0.000000  0.000000    0.000000      0.000000   \n",
       "g   31.748189   5.024326  2.381753  2.741811  180.951830   1008.778420   \n",
       "gg  17.790000  11.187500  5.000000  0.000000  375.000000  50000.000000   \n",
       "p   28.695828   4.009325  1.766994  1.429448  183.521472    481.226994   \n",
       "\n",
       "       Hired  \n",
       "C5            \n",
       "?   0.666667  \n",
       "g   0.493256  \n",
       "gg  1.000000  \n",
       "p   0.276074  "
      ]
     },
     "execution_count": 279,
     "metadata": {},
     "output_type": "execute_result"
    }
   ],
   "source": [
    "df.groupby('C5').mean()\n"
   ]
  },
  {
   "cell_type": "code",
   "execution_count": 280,
   "metadata": {},
   "outputs": [
    {
     "data": {
      "text/html": [
       "<div>\n",
       "<style scoped>\n",
       "    .dataframe tbody tr th:only-of-type {\n",
       "        vertical-align: middle;\n",
       "    }\n",
       "\n",
       "    .dataframe tbody tr th {\n",
       "        vertical-align: top;\n",
       "    }\n",
       "\n",
       "    .dataframe thead th {\n",
       "        text-align: right;\n",
       "    }\n",
       "</style>\n",
       "<table border=\"1\" class=\"dataframe\">\n",
       "  <thead>\n",
       "    <tr style=\"text-align: right;\">\n",
       "      <th></th>\n",
       "      <th>C2</th>\n",
       "      <th>C3</th>\n",
       "      <th>C8</th>\n",
       "      <th>C11</th>\n",
       "      <th>C14</th>\n",
       "      <th>C15</th>\n",
       "      <th>Hired</th>\n",
       "    </tr>\n",
       "    <tr>\n",
       "      <th>C6</th>\n",
       "      <th></th>\n",
       "      <th></th>\n",
       "      <th></th>\n",
       "      <th></th>\n",
       "      <th></th>\n",
       "      <th></th>\n",
       "      <th></th>\n",
       "    </tr>\n",
       "  </thead>\n",
       "  <tbody>\n",
       "    <tr>\n",
       "      <th>?</th>\n",
       "      <td>40.212222</td>\n",
       "      <td>1.106667</td>\n",
       "      <td>0.069444</td>\n",
       "      <td>0.000000</td>\n",
       "      <td>25.555556</td>\n",
       "      <td>37.888889</td>\n",
       "      <td>0.444444</td>\n",
       "    </tr>\n",
       "    <tr>\n",
       "      <th>aa</th>\n",
       "      <td>27.846852</td>\n",
       "      <td>5.164259</td>\n",
       "      <td>1.536667</td>\n",
       "      <td>1.296296</td>\n",
       "      <td>174.888889</td>\n",
       "      <td>385.648148</td>\n",
       "      <td>0.351852</td>\n",
       "    </tr>\n",
       "    <tr>\n",
       "      <th>c</th>\n",
       "      <td>29.299489</td>\n",
       "      <td>4.401642</td>\n",
       "      <td>2.326314</td>\n",
       "      <td>2.839416</td>\n",
       "      <td>167.131387</td>\n",
       "      <td>829.708029</td>\n",
       "      <td>0.452555</td>\n",
       "    </tr>\n",
       "    <tr>\n",
       "      <th>cc</th>\n",
       "      <td>30.297317</td>\n",
       "      <td>4.027561</td>\n",
       "      <td>3.023171</td>\n",
       "      <td>4.756098</td>\n",
       "      <td>222.585366</td>\n",
       "      <td>1928.121951</td>\n",
       "      <td>0.707317</td>\n",
       "    </tr>\n",
       "    <tr>\n",
       "      <th>d</th>\n",
       "      <td>27.680333</td>\n",
       "      <td>4.786167</td>\n",
       "      <td>2.356833</td>\n",
       "      <td>1.333333</td>\n",
       "      <td>182.033333</td>\n",
       "      <td>111.266667</td>\n",
       "      <td>0.233333</td>\n",
       "    </tr>\n",
       "    <tr>\n",
       "      <th>e</th>\n",
       "      <td>40.350000</td>\n",
       "      <td>8.208400</td>\n",
       "      <td>4.091400</td>\n",
       "      <td>3.040000</td>\n",
       "      <td>163.080000</td>\n",
       "      <td>3042.840000</td>\n",
       "      <td>0.560000</td>\n",
       "    </tr>\n",
       "    <tr>\n",
       "      <th>ff</th>\n",
       "      <td>37.291887</td>\n",
       "      <td>5.838019</td>\n",
       "      <td>1.323774</td>\n",
       "      <td>1.716981</td>\n",
       "      <td>112.547170</td>\n",
       "      <td>2349.584906</td>\n",
       "      <td>0.132075</td>\n",
       "    </tr>\n",
       "    <tr>\n",
       "      <th>i</th>\n",
       "      <td>31.699322</td>\n",
       "      <td>4.204068</td>\n",
       "      <td>1.952797</td>\n",
       "      <td>1.542373</td>\n",
       "      <td>205.508475</td>\n",
       "      <td>514.423729</td>\n",
       "      <td>0.237288</td>\n",
       "    </tr>\n",
       "    <tr>\n",
       "      <th>j</th>\n",
       "      <td>31.426000</td>\n",
       "      <td>4.667000</td>\n",
       "      <td>0.029000</td>\n",
       "      <td>2.700000</td>\n",
       "      <td>122.200000</td>\n",
       "      <td>149.200000</td>\n",
       "      <td>0.300000</td>\n",
       "    </tr>\n",
       "    <tr>\n",
       "      <th>k</th>\n",
       "      <td>30.779216</td>\n",
       "      <td>4.014510</td>\n",
       "      <td>1.530196</td>\n",
       "      <td>1.470588</td>\n",
       "      <td>178.039216</td>\n",
       "      <td>530.215686</td>\n",
       "      <td>0.274510</td>\n",
       "    </tr>\n",
       "    <tr>\n",
       "      <th>m</th>\n",
       "      <td>33.295263</td>\n",
       "      <td>3.254211</td>\n",
       "      <td>2.580921</td>\n",
       "      <td>2.052632</td>\n",
       "      <td>234.684211</td>\n",
       "      <td>887.368421</td>\n",
       "      <td>0.421053</td>\n",
       "    </tr>\n",
       "    <tr>\n",
       "      <th>q</th>\n",
       "      <td>29.463077</td>\n",
       "      <td>5.190577</td>\n",
       "      <td>2.651218</td>\n",
       "      <td>3.474359</td>\n",
       "      <td>165.397436</td>\n",
       "      <td>1000.371795</td>\n",
       "      <td>0.653846</td>\n",
       "    </tr>\n",
       "    <tr>\n",
       "      <th>r</th>\n",
       "      <td>29.780000</td>\n",
       "      <td>5.596667</td>\n",
       "      <td>4.208333</td>\n",
       "      <td>3.000000</td>\n",
       "      <td>98.666667</td>\n",
       "      <td>10473.666667</td>\n",
       "      <td>0.666667</td>\n",
       "    </tr>\n",
       "    <tr>\n",
       "      <th>w</th>\n",
       "      <td>29.768281</td>\n",
       "      <td>4.569453</td>\n",
       "      <td>2.132109</td>\n",
       "      <td>2.171875</td>\n",
       "      <td>200.421875</td>\n",
       "      <td>632.906250</td>\n",
       "      <td>0.515625</td>\n",
       "    </tr>\n",
       "    <tr>\n",
       "      <th>x</th>\n",
       "      <td>30.358421</td>\n",
       "      <td>6.081974</td>\n",
       "      <td>3.085395</td>\n",
       "      <td>2.763158</td>\n",
       "      <td>263.394737</td>\n",
       "      <td>1095.000000</td>\n",
       "      <td>0.842105</td>\n",
       "    </tr>\n",
       "  </tbody>\n",
       "</table>\n",
       "</div>"
      ],
      "text/plain": [
       "           C2        C3        C8       C11         C14           C15  \\\n",
       "C6                                                                      \n",
       "?   40.212222  1.106667  0.069444  0.000000   25.555556     37.888889   \n",
       "aa  27.846852  5.164259  1.536667  1.296296  174.888889    385.648148   \n",
       "c   29.299489  4.401642  2.326314  2.839416  167.131387    829.708029   \n",
       "cc  30.297317  4.027561  3.023171  4.756098  222.585366   1928.121951   \n",
       "d   27.680333  4.786167  2.356833  1.333333  182.033333    111.266667   \n",
       "e   40.350000  8.208400  4.091400  3.040000  163.080000   3042.840000   \n",
       "ff  37.291887  5.838019  1.323774  1.716981  112.547170   2349.584906   \n",
       "i   31.699322  4.204068  1.952797  1.542373  205.508475    514.423729   \n",
       "j   31.426000  4.667000  0.029000  2.700000  122.200000    149.200000   \n",
       "k   30.779216  4.014510  1.530196  1.470588  178.039216    530.215686   \n",
       "m   33.295263  3.254211  2.580921  2.052632  234.684211    887.368421   \n",
       "q   29.463077  5.190577  2.651218  3.474359  165.397436   1000.371795   \n",
       "r   29.780000  5.596667  4.208333  3.000000   98.666667  10473.666667   \n",
       "w   29.768281  4.569453  2.132109  2.171875  200.421875    632.906250   \n",
       "x   30.358421  6.081974  3.085395  2.763158  263.394737   1095.000000   \n",
       "\n",
       "       Hired  \n",
       "C6            \n",
       "?   0.444444  \n",
       "aa  0.351852  \n",
       "c   0.452555  \n",
       "cc  0.707317  \n",
       "d   0.233333  \n",
       "e   0.560000  \n",
       "ff  0.132075  \n",
       "i   0.237288  \n",
       "j   0.300000  \n",
       "k   0.274510  \n",
       "m   0.421053  \n",
       "q   0.653846  \n",
       "r   0.666667  \n",
       "w   0.515625  \n",
       "x   0.842105  "
      ]
     },
     "execution_count": 280,
     "metadata": {},
     "output_type": "execute_result"
    }
   ],
   "source": [
    "df.groupby('C6').mean()\n"
   ]
  },
  {
   "cell_type": "code",
   "execution_count": 281,
   "metadata": {},
   "outputs": [
    {
     "data": {
      "text/html": [
       "<div>\n",
       "<style scoped>\n",
       "    .dataframe tbody tr th:only-of-type {\n",
       "        vertical-align: middle;\n",
       "    }\n",
       "\n",
       "    .dataframe tbody tr th {\n",
       "        vertical-align: top;\n",
       "    }\n",
       "\n",
       "    .dataframe thead th {\n",
       "        text-align: right;\n",
       "    }\n",
       "</style>\n",
       "<table border=\"1\" class=\"dataframe\">\n",
       "  <thead>\n",
       "    <tr style=\"text-align: right;\">\n",
       "      <th></th>\n",
       "      <th>C2</th>\n",
       "      <th>C3</th>\n",
       "      <th>C8</th>\n",
       "      <th>C11</th>\n",
       "      <th>C14</th>\n",
       "      <th>C15</th>\n",
       "      <th>Hired</th>\n",
       "    </tr>\n",
       "    <tr>\n",
       "      <th>C7</th>\n",
       "      <th></th>\n",
       "      <th></th>\n",
       "      <th></th>\n",
       "      <th></th>\n",
       "      <th></th>\n",
       "      <th></th>\n",
       "      <th></th>\n",
       "    </tr>\n",
       "  </thead>\n",
       "  <tbody>\n",
       "    <tr>\n",
       "      <th>?</th>\n",
       "      <td>40.212222</td>\n",
       "      <td>1.106667</td>\n",
       "      <td>0.069444</td>\n",
       "      <td>0.000000</td>\n",
       "      <td>25.555556</td>\n",
       "      <td>37.888889</td>\n",
       "      <td>0.444444</td>\n",
       "    </tr>\n",
       "    <tr>\n",
       "      <th>bb</th>\n",
       "      <td>35.346102</td>\n",
       "      <td>4.699068</td>\n",
       "      <td>3.034746</td>\n",
       "      <td>2.915254</td>\n",
       "      <td>222.694915</td>\n",
       "      <td>1762.271186</td>\n",
       "      <td>0.423729</td>\n",
       "    </tr>\n",
       "    <tr>\n",
       "      <th>dd</th>\n",
       "      <td>23.360000</td>\n",
       "      <td>5.326667</td>\n",
       "      <td>0.569167</td>\n",
       "      <td>1.166667</td>\n",
       "      <td>153.166667</td>\n",
       "      <td>485.000000</td>\n",
       "      <td>0.333333</td>\n",
       "    </tr>\n",
       "    <tr>\n",
       "      <th>ff</th>\n",
       "      <td>37.025789</td>\n",
       "      <td>5.377105</td>\n",
       "      <td>1.406316</td>\n",
       "      <td>1.859649</td>\n",
       "      <td>107.385965</td>\n",
       "      <td>434.649123</td>\n",
       "      <td>0.140351</td>\n",
       "    </tr>\n",
       "    <tr>\n",
       "      <th>h</th>\n",
       "      <td>31.977464</td>\n",
       "      <td>5.368297</td>\n",
       "      <td>3.416667</td>\n",
       "      <td>3.036232</td>\n",
       "      <td>198.833333</td>\n",
       "      <td>968.181159</td>\n",
       "      <td>0.630435</td>\n",
       "    </tr>\n",
       "    <tr>\n",
       "      <th>j</th>\n",
       "      <td>30.251250</td>\n",
       "      <td>3.218750</td>\n",
       "      <td>0.281250</td>\n",
       "      <td>1.500000</td>\n",
       "      <td>124.500000</td>\n",
       "      <td>132.625000</td>\n",
       "      <td>0.375000</td>\n",
       "    </tr>\n",
       "    <tr>\n",
       "      <th>n</th>\n",
       "      <td>23.085000</td>\n",
       "      <td>4.593750</td>\n",
       "      <td>1.823750</td>\n",
       "      <td>2.750000</td>\n",
       "      <td>123.000000</td>\n",
       "      <td>190.750000</td>\n",
       "      <td>0.500000</td>\n",
       "    </tr>\n",
       "    <tr>\n",
       "      <th>o</th>\n",
       "      <td>32.835000</td>\n",
       "      <td>11.667500</td>\n",
       "      <td>0.167500</td>\n",
       "      <td>0.000000</td>\n",
       "      <td>225.000000</td>\n",
       "      <td>50060.000000</td>\n",
       "      <td>0.500000</td>\n",
       "    </tr>\n",
       "    <tr>\n",
       "      <th>v</th>\n",
       "      <td>28.641228</td>\n",
       "      <td>4.352845</td>\n",
       "      <td>1.813960</td>\n",
       "      <td>2.192982</td>\n",
       "      <td>187.012531</td>\n",
       "      <td>792.992481</td>\n",
       "      <td>0.423559</td>\n",
       "    </tr>\n",
       "    <tr>\n",
       "      <th>z</th>\n",
       "      <td>58.062500</td>\n",
       "      <td>14.098750</td>\n",
       "      <td>8.218750</td>\n",
       "      <td>6.750000</td>\n",
       "      <td>21.750000</td>\n",
       "      <td>2254.875000</td>\n",
       "      <td>0.750000</td>\n",
       "    </tr>\n",
       "  </tbody>\n",
       "</table>\n",
       "</div>"
      ],
      "text/plain": [
       "           C2         C3        C8       C11         C14           C15  \\\n",
       "C7                                                                       \n",
       "?   40.212222   1.106667  0.069444  0.000000   25.555556     37.888889   \n",
       "bb  35.346102   4.699068  3.034746  2.915254  222.694915   1762.271186   \n",
       "dd  23.360000   5.326667  0.569167  1.166667  153.166667    485.000000   \n",
       "ff  37.025789   5.377105  1.406316  1.859649  107.385965    434.649123   \n",
       "h   31.977464   5.368297  3.416667  3.036232  198.833333    968.181159   \n",
       "j   30.251250   3.218750  0.281250  1.500000  124.500000    132.625000   \n",
       "n   23.085000   4.593750  1.823750  2.750000  123.000000    190.750000   \n",
       "o   32.835000  11.667500  0.167500  0.000000  225.000000  50060.000000   \n",
       "v   28.641228   4.352845  1.813960  2.192982  187.012531    792.992481   \n",
       "z   58.062500  14.098750  8.218750  6.750000   21.750000   2254.875000   \n",
       "\n",
       "       Hired  \n",
       "C7            \n",
       "?   0.444444  \n",
       "bb  0.423729  \n",
       "dd  0.333333  \n",
       "ff  0.140351  \n",
       "h   0.630435  \n",
       "j   0.375000  \n",
       "n   0.500000  \n",
       "o   0.500000  \n",
       "v   0.423559  \n",
       "z   0.750000  "
      ]
     },
     "execution_count": 281,
     "metadata": {},
     "output_type": "execute_result"
    }
   ],
   "source": [
    "df.groupby('C7').mean()"
   ]
  },
  {
   "cell_type": "markdown",
   "metadata": {},
   "source": [
    "# Data Visualization"
   ]
  },
  {
   "cell_type": "markdown",
   "metadata": {},
   "source": [
    "Let us visualize our data to get a much clearer picture of the data and the significant features.\n",
    "\n",
    "Bar chart for C4 and the frequency of hiring"
   ]
  },
  {
   "cell_type": "code",
   "execution_count": 282,
   "metadata": {},
   "outputs": [
    {
     "data": {
      "image/png": "[encoded data removed]",
      "text/plain": [
       "<Figure size 432x288 with 1 Axes>"
      ]
     },
     "metadata": {},
     "output_type": "display_data"
    }
   ],
   "source": [
    "%matplotlib inline\n",
    "import matplotlib.pyplot as plt\n",
    "pd.crosstab(df.C4,df.Hired).plot(kind='bar')\n",
    "plt.title('Hiring Frequency for C4')\n",
    "plt.xlabel('C4')\n",
    "plt.ylabel('Frequency of Hiring')\n",
    "plt.savefig('C4_bar_chart')"
   ]
  },
  {
   "cell_type": "code",
   "execution_count": 283,
   "metadata": {},
   "outputs": [
    {
     "data": {
      "image/png": "[encoded data removed]",
      "text/plain": [
       "<Figure size 432x288 with 1 Axes>"
      ]
     },
     "metadata": {},
     "output_type": "display_data"
    }
   ],
   "source": [
    "pd.crosstab(df.C5,df.Hired).plot(kind='bar')\n",
    "plt.title('Hiring Frequency for C5')\n",
    "plt.xlabel('C5')\n",
    "plt.ylabel('Frequency of Hiring')\n",
    "plt.savefig('C5_bar_chart')"
   ]
  },
  {
   "cell_type": "code",
   "execution_count": 284,
   "metadata": {},
   "outputs": [
    {
     "data": {
      "image/png": "[encoded data removed]",
      "text/plain": [
       "<Figure size 432x288 with 1 Axes>"
      ]
     },
     "metadata": {},
     "output_type": "display_data"
    }
   ],
   "source": [
    "pd.crosstab(df.C7,df.Hired).plot(kind='bar')\n",
    "plt.title('Hiring Frequency for C7')\n",
    "plt.xlabel('C7')\n",
    "plt.ylabel('Frequency of Hiring')\n",
    "plt.savefig('C7_bar_chart')"
   ]
  },
  {
   "cell_type": "code",
   "execution_count": 285,
   "metadata": {},
   "outputs": [
    {
     "data": {
      "image/png": "[encoded data removed]",
      "text/plain": [
       "<Figure size 432x288 with 1 Axes>"
      ]
     },
     "metadata": {},
     "output_type": "display_data"
    }
   ],
   "source": [
    "pd.crosstab(df.C6,df.Hired).plot(kind='bar')\n",
    "plt.title('Hiring Frequency for C6')\n",
    "plt.xlabel('C6')\n",
    "plt.ylabel('Frequency of Hiring')\n",
    "plt.savefig('C6_bar_chart')"
   ]
  },
  {
   "cell_type": "code",
   "execution_count": 286,
   "metadata": {},
   "outputs": [
    {
     "data": {
      "image/png": "[encoded data removed]",
      "text/plain": [
       "<Figure size 432x288 with 1 Axes>"
      ]
     },
     "metadata": {},
     "output_type": "display_data"
    }
   ],
   "source": [
    "pd.crosstab(df.C9,df.Hired).plot(kind='bar')\n",
    "plt.title('Hiring Frequency for C9')\n",
    "plt.xlabel('C9')\n",
    "plt.ylabel('Frequency of Hiring')\n",
    "plt.savefig('C9_bar_chart')"
   ]
  },
  {
   "cell_type": "code",
   "execution_count": 287,
   "metadata": {},
   "outputs": [
    {
     "data": {
      "image/png": "[encoded data removed]",
      "text/plain": [
       "<Figure size 432x288 with 1 Axes>"
      ]
     },
     "metadata": {},
     "output_type": "display_data"
    }
   ],
   "source": [
    "pd.crosstab(df.C10,df.Hired).plot(kind='bar')\n",
    "plt.title('Hiring Frequency for C10')\n",
    "plt.xlabel('C10')\n",
    "plt.ylabel('Frequency of Hiring')\n",
    "plt.savefig('C10_bar_chart')"
   ]
  },
  {
   "cell_type": "code",
   "execution_count": 288,
   "metadata": {},
   "outputs": [
    {
     "data": {
      "image/png": "[encoded data removed]",
      "text/plain": [
       "<Figure size 432x288 with 1 Axes>"
      ]
     },
     "metadata": {},
     "output_type": "display_data"
    }
   ],
   "source": [
    "pd.crosstab(df.C12,df.Hired).plot(kind='bar')\n",
    "plt.title('Hiring Frequency for C12')\n",
    "plt.xlabel('C12')\n",
    "plt.ylabel('Frequency of Hiring')\n",
    "plt.savefig('C12_bar_chart')"
   ]
  },
  {
   "cell_type": "code",
   "execution_count": 289,
   "metadata": {},
   "outputs": [
    {
     "data": {
      "image/png": "[encoded data removed]",
      "text/plain": [
       "<Figure size 432x288 with 1 Axes>"
      ]
     },
     "metadata": {},
     "output_type": "display_data"
    }
   ],
   "source": [
    "table=pd.crosstab(df.C12, df.Hired)\n",
    "table.div(table.sum(1).astype(float), axis=0).plot(kind='bar', stacked=True)\n",
    "plt.title('Stacked Bar Chart of C12 vs Hired')\n",
    "plt.xlabel('C12')\n",
    "plt.ylabel('Proportion of candidates')\n",
    "plt.savefig('C12_bar_chart')"
   ]
  },
  {
   "cell_type": "code",
   "execution_count": 290,
   "metadata": {},
   "outputs": [
    {
     "data": {
      "image/png": "[encoded data removed]",
      "text/plain": [
       "<Figure size 1008x864 with 2 Axes>"
      ]
     },
     "metadata": {},
     "output_type": "display_data"
    }
   ],
   "source": [
    "heat_map = df.iloc[:,:]\n",
    "plt.figure(figsize=(14,12))\n",
    "sns.heatmap(heat_map.corr(), vmax=0.8, square=True, annot=True)\n",
    "plt.show()"
   ]
  },
  {
   "cell_type": "code",
   "execution_count": 291,
   "metadata": {},
   "outputs": [
    {
     "data": {
      "image/png": "[encoded data removed]",
      "text/plain": [
       "<Figure size 432x288 with 1 Axes>"
      ]
     },
     "metadata": {},
     "output_type": "display_data"
    }
   ],
   "source": [
    "pd.crosstab(df.C13,df.Hired).plot(kind='bar')\n",
    "plt.title('Hiring Frequency for C13')\n",
    "plt.xlabel('C13')\n",
    "plt.ylabel('Frequency of Hiring')\n",
    "plt.savefig('C13_bar_chart')"
   ]
  },
  {
   "cell_type": "code",
   "execution_count": 292,
   "metadata": {},
   "outputs": [
    {
     "data": {
      "image/png": "[encoded data removed]",
      "text/plain": [
       "<Figure size 1440x1080 with 9 Axes>"
      ]
     },
     "metadata": {},
     "output_type": "display_data"
    }
   ],
   "source": [
    "num_bins = 10\n",
    "df.hist(bins=num_bins, figsize=(20,15))\n",
    "plt.savefig(\"hr_histogram_plots\")\n",
    "plt.show()"
   ]
  },
  {
   "cell_type": "markdown",
   "metadata": {},
   "source": [
    "# Create dummy variables for categorical variables\n"
   ]
  },
  {
   "cell_type": "markdown",
   "metadata": {},
   "source": [
    "There are multiple categorical variables in the dataset and they need to be converted to dummy variables before they can be used for modelling."
   ]
  },
  {
   "cell_type": "code",
   "execution_count": 647,
   "metadata": {},
   "outputs": [],
   "source": [
    "cat_vars=['C1','C4','C5','C6','C7','C9','C10','C12','C13']\n",
    "for var in cat_vars:\n",
    "    cat_list='var'+'_'+var\n",
    "    cat_list = pd.get_dummies(df[var], prefix=var)\n",
    "    hr1=df.join(cat_list)\n",
    "    df=hr1\n",
    "    "
   ]
  },
  {
   "cell_type": "markdown",
   "metadata": {},
   "source": [
    "The actual categorical variable needs to be removed once the dummy variables have been created."
   ]
  },
  {
   "cell_type": "markdown",
   "metadata": {},
   "source": [
    "Column names after creating dummy variables for categorical variables:\n"
   ]
  },
  {
   "cell_type": "code",
   "execution_count": 648,
   "metadata": {},
   "outputs": [
    {
     "data": {
      "text/plain": [
       "array(['C2', 'C3', 'C8', 'C11', 'C14', 'C15', 'Hired', 'C1_?', 'C1_a',\n",
       "       'C1_b', 'C4_?', 'C4_l', 'C4_u', 'C4_y', 'C5_?', 'C5_g', 'C5_gg',\n",
       "       'C5_p', 'C6_?', 'C6_aa', 'C6_c', 'C6_cc', 'C6_d', 'C6_e', 'C6_ff',\n",
       "       'C6_i', 'C6_j', 'C6_k', 'C6_m', 'C6_q', 'C6_r', 'C6_w', 'C6_x',\n",
       "       'C7_?', 'C7_bb', 'C7_dd', 'C7_ff', 'C7_h', 'C7_j', 'C7_n', 'C7_o',\n",
       "       'C7_v', 'C7_z', 'C9_f', 'C9_t', 'C10_f', 'C10_t', 'C12_f', 'C12_t',\n",
       "       'C13_g', 'C13_p', 'C13_s'], dtype=object)"
      ]
     },
     "execution_count": 648,
     "metadata": {},
     "output_type": "execute_result"
    }
   ],
   "source": [
    "df.drop(df.columns[[0,3,4,5,6,8,9,11,12]], axis=1, inplace=True)\n",
    "df.columns.values"
   ]
  },
  {
   "cell_type": "markdown",
   "metadata": {},
   "source": [
    "The outcome variable is “Hired”, and all the other variables are predictors.\n"
   ]
  },
  {
   "cell_type": "code",
   "execution_count": 649,
   "metadata": {},
   "outputs": [
    {
     "data": {
      "text/plain": [
       "C2       float64\n",
       "C3       float64\n",
       "C8       float64\n",
       "C11        int64\n",
       "C14        int64\n",
       "C15        int64\n",
       "Hired      int64\n",
       "C1_?       uint8\n",
       "C1_a       uint8\n",
       "C1_b       uint8\n",
       "C4_?       uint8\n",
       "C4_l       uint8\n",
       "C4_u       uint8\n",
       "C4_y       uint8\n",
       "C5_?       uint8\n",
       "C5_g       uint8\n",
       "C5_gg      uint8\n",
       "C5_p       uint8\n",
       "C6_?       uint8\n",
       "C6_aa      uint8\n",
       "C6_c       uint8\n",
       "C6_cc      uint8\n",
       "C6_d       uint8\n",
       "C6_e       uint8\n",
       "C6_ff      uint8\n",
       "C6_i       uint8\n",
       "C6_j       uint8\n",
       "C6_k       uint8\n",
       "C6_m       uint8\n",
       "C6_q       uint8\n",
       "C6_r       uint8\n",
       "C6_w       uint8\n",
       "C6_x       uint8\n",
       "C7_?       uint8\n",
       "C7_bb      uint8\n",
       "C7_dd      uint8\n",
       "C7_ff      uint8\n",
       "C7_h       uint8\n",
       "C7_j       uint8\n",
       "C7_n       uint8\n",
       "C7_o       uint8\n",
       "C7_v       uint8\n",
       "C7_z       uint8\n",
       "C9_f       uint8\n",
       "C9_t       uint8\n",
       "C10_f      uint8\n",
       "C10_t      uint8\n",
       "C12_f      uint8\n",
       "C12_t      uint8\n",
       "C13_g      uint8\n",
       "C13_p      uint8\n",
       "C13_s      uint8\n",
       "dtype: object"
      ]
     },
     "execution_count": 649,
     "metadata": {},
     "output_type": "execute_result"
    }
   ],
   "source": [
    "df.head()\n",
    "df.dtypes"
   ]
  },
  {
   "cell_type": "code",
   "execution_count": 650,
   "metadata": {},
   "outputs": [],
   "source": [
    "df_vars=df.columns.values.tolist()\n",
    "y=['Hired']\n",
    "X=[i for i in df_vars if i not in y]"
   ]
  },
  {
   "cell_type": "markdown",
   "metadata": {},
   "source": [
    "# Feature Selection\n"
   ]
  },
  {
   "cell_type": "markdown",
   "metadata": {},
   "source": [
    "The Recursive Feature Elimination (RFE) works by recursively removing variables and building a model on those variables that remain. \n",
    "It uses the model accuracy to identify which variables (and combination of variables) contribute the most to predicting the target attribute.\n",
    "\n",
    "Let’s use feature selection to help us decide which variables are significant that can predict employee hiring with great accuracy. \n",
    "There are total 52 columns in X, how about select 10?"
   ]
  },
  {
   "cell_type": "code",
   "execution_count": 651,
   "metadata": {},
   "outputs": [
    {
     "name": "stderr",
     "output_type": "stream",
     "text": [
      "C:\\Users\\manjeet.singh\\AppData\\Local\\Continuum\\anaconda3\\lib\\site-packages\\sklearn\\utils\\validation.py:578: DataConversionWarning: A column-vector y was passed when a 1d array was expected. Please change the shape of y to (n_samples, ), for example using ravel().\n",
      "  y = column_or_1d(y, warn=True)\n"
     ]
    },
    {
     "name": "stdout",
     "output_type": "stream",
     "text": [
      "[False False False False False False False False False False False False\n",
      " False False False False False False False False False False False False\n",
      " False False False False False False False  True False False False False\n",
      " False False False False False False  True  True False  True False False\n",
      " False  True False]\n",
      "[44 45 39 34 46 47 18 37 36 11  4 17  9  3  8  2  7 32 15 42  6 24 20  5\n",
      " 14 25 16 30 38 28 22  1 35 31 43 13 21 23 10 19 41 33  1  1 12  1 29 40\n",
      " 27  1 26]\n"
     ]
    }
   ],
   "source": [
    "model = LogisticRegression()\n",
    "rfe = RFE(model, 5)\n",
    "rfe = rfe.fit(df[X], df[y])\n",
    "print(rfe.support_)\n",
    "print(rfe.ranking_)"
   ]
  },
  {
   "cell_type": "markdown",
   "metadata": {},
   "source": [
    "You can see that RFE chose the 10 variables for us, which are marked True in the support_ array \n",
    "and marked with a choice “1” in the ranking_array. "
   ]
  },
  {
   "cell_type": "code",
   "execution_count": 652,
   "metadata": {},
   "outputs": [],
   "source": [
    "# cols=['C4_?', 'C4_y', 'C5_g', 'C6_c', 'C6_e', 'C6_w', 'C9_t', 'C9_f', 'C10_t', 'C13_p'] \n",
    "#After triying multiple varibale , I will pick the best 3.\n",
    "\n",
    "cols=['C9_t', 'C9_f', 'C10_t']\n",
    "X=df[cols]\n",
    "y=df['Hired']"
   ]
  },
  {
   "cell_type": "markdown",
   "metadata": {},
   "source": [
    "# Logistic Regression Model"
   ]
  },
  {
   "cell_type": "code",
   "execution_count": 653,
   "metadata": {},
   "outputs": [
    {
     "data": {
      "text/plain": [
       "LogisticRegression(C=1.0, class_weight=None, dual=False, fit_intercept=True,\n",
       "          intercept_scaling=1, max_iter=100, multi_class='ovr', n_jobs=1,\n",
       "          penalty='l2', random_state=None, solver='liblinear', tol=0.0001,\n",
       "          verbose=0, warm_start=False)"
      ]
     },
     "execution_count": 653,
     "metadata": {},
     "output_type": "execute_result"
    }
   ],
   "source": [
    "from sklearn import metrics\n",
    "X_train, X_test, y_train, y_test = train_test_split(X, y, test_size=0.3, random_state=0)\n",
    "logreg = LogisticRegression()\n",
    "logreg.fit(X_train, y_train)"
   ]
  },
  {
   "cell_type": "code",
   "execution_count": 654,
   "metadata": {},
   "outputs": [
    {
     "name": "stdout",
     "output_type": "stream",
     "text": [
      "Logistic regression accuracy: 0.860\n"
     ]
    }
   ],
   "source": [
    "from sklearn.metrics import accuracy_score\n",
    "print('Logistic regression accuracy: {:.3f}'.format(accuracy_score(y_test, logreg.predict(X_test))))"
   ]
  },
  {
   "cell_type": "markdown",
   "metadata": {},
   "source": [
    "# Random Forest"
   ]
  },
  {
   "cell_type": "code",
   "execution_count": 655,
   "metadata": {},
   "outputs": [
    {
     "data": {
      "text/plain": [
       "RandomForestClassifier(bootstrap=True, class_weight=None, criterion='gini',\n",
       "            max_depth=None, max_features='auto', max_leaf_nodes=None,\n",
       "            min_impurity_decrease=0.0, min_impurity_split=None,\n",
       "            min_samples_leaf=1, min_samples_split=2,\n",
       "            min_weight_fraction_leaf=0.0, n_estimators=10, n_jobs=1,\n",
       "            oob_score=False, random_state=None, verbose=0,\n",
       "            warm_start=False)"
      ]
     },
     "execution_count": 655,
     "metadata": {},
     "output_type": "execute_result"
    }
   ],
   "source": [
    "rf = RandomForestClassifier()\n",
    "rf.fit(X_train, y_train)"
   ]
  },
  {
   "cell_type": "code",
   "execution_count": 656,
   "metadata": {},
   "outputs": [
    {
     "name": "stdout",
     "output_type": "stream",
     "text": [
      "Random Forest Accuracy: 0.860\n"
     ]
    }
   ],
   "source": [
    "print('Random Forest Accuracy: {:.3f}'.format(accuracy_score(y_test, rf.predict(X_test))))"
   ]
  },
  {
   "cell_type": "markdown",
   "metadata": {},
   "source": [
    "# Support Vector Machine"
   ]
  },
  {
   "cell_type": "code",
   "execution_count": 657,
   "metadata": {},
   "outputs": [
    {
     "data": {
      "text/plain": [
       "SVC(C=1.0, cache_size=200, class_weight=None, coef0=0.0,\n",
       "  decision_function_shape='ovr', degree=3, gamma='auto', kernel='rbf',\n",
       "  max_iter=-1, probability=False, random_state=None, shrinking=True,\n",
       "  tol=0.001, verbose=False)"
      ]
     },
     "execution_count": 657,
     "metadata": {},
     "output_type": "execute_result"
    }
   ],
   "source": [
    "svc = SVC()\n",
    "svc.fit(X_train, y_train)"
   ]
  },
  {
   "cell_type": "code",
   "execution_count": 658,
   "metadata": {},
   "outputs": [
    {
     "name": "stdout",
     "output_type": "stream",
     "text": [
      "Support vector machine accuracy: 0.860\n"
     ]
    }
   ],
   "source": [
    "print('Support vector machine accuracy: {:.3f}'.format(accuracy_score(y_test, svc.predict(X_test))))"
   ]
  },
  {
   "cell_type": "markdown",
   "metadata": {},
   "source": [
    "All three models are very close but I will pick---  Random Forrest. "
   ]
  },
  {
   "cell_type": "markdown",
   "metadata": {},
   "source": [
    "# Cross Validation"
   ]
  },
  {
   "cell_type": "markdown",
   "metadata": {},
   "source": [
    "Cross validation attempts to avoid overfitting while still producing a prediction for each observation dataset. \n",
    "We are using 10-fold Cross-Validation to train our Random Forest model."
   ]
  },
  {
   "cell_type": "code",
   "execution_count": 660,
   "metadata": {},
   "outputs": [
    {
     "name": "stdout",
     "output_type": "stream",
     "text": [
      "10-fold cross validation average accuracy: 0.853\n"
     ]
    }
   ],
   "source": [
    "from sklearn import model_selection\n",
    "from sklearn.model_selection import cross_val_score\n",
    "kfold = model_selection.KFold(n_splits=10, random_state=7)\n",
    "modelCV = RandomForestClassifier()\n",
    "scoring = 'accuracy'\n",
    "results = model_selection.cross_val_score(modelCV, X_train, y_train, cv=kfold, scoring=scoring)\n",
    "print(\"10-fold cross validation average accuracy: %.3f\" % (results.mean()))"
   ]
  },
  {
   "cell_type": "markdown",
   "metadata": {},
   "source": [
    "The average accuracy remains very close to the Random Forrest model accuracy; \n",
    "hence, we can conclude that the model generalizes well."
   ]
  },
  {
   "cell_type": "markdown",
   "metadata": {},
   "source": [
    "# Precision and recall\n",
    "We construct confusion matrix to visualize predictions made by a classifier and evaluate the accuracy of a classification."
   ]
  },
  {
   "cell_type": "markdown",
   "metadata": {},
   "source": [
    "# Random Forrest"
   ]
  },
  {
   "cell_type": "code",
   "execution_count": 661,
   "metadata": {},
   "outputs": [
    {
     "name": "stdout",
     "output_type": "stream",
     "text": [
      "             precision    recall  f1-score   support\n",
      "\n",
      "          0       0.93      0.81      0.87       117\n",
      "          1       0.79      0.92      0.85        90\n",
      "\n",
      "avg / total       0.87      0.86      0.86       207\n",
      "\n"
     ]
    }
   ],
   "source": [
    "print(classification_report(y_test, rf.predict(X_test)))"
   ]
  },
  {
   "cell_type": "code",
   "execution_count": 662,
   "metadata": {},
   "outputs": [
    {
     "data": {
      "image/png": "[encoded data removed]",
      "text/plain": [
       "<Figure size 432x288 with 2 Axes>"
      ]
     },
     "metadata": {},
     "output_type": "display_data"
    }
   ],
   "source": [
    "y_pred = rf.predict(X_test)\n",
    "forest_cm = metrics.confusion_matrix(y_pred, y_test, [1,0])\n",
    "sns.heatmap(forest_cm, annot=True, fmt='.2f',xticklabels = [\"Hired\", \"Not\"] , yticklabels = [\"Hired\", \"Not\"] )\n",
    "plt.ylabel('True class')\n",
    "plt.xlabel('Predicted class')\n",
    "plt.title('Random Forest')\n",
    "plt.savefig('random_forest')"
   ]
  },
  {
   "cell_type": "markdown",
   "metadata": {},
   "source": [
    "# Logistic Regression"
   ]
  },
  {
   "cell_type": "code",
   "execution_count": 663,
   "metadata": {},
   "outputs": [
    {
     "name": "stdout",
     "output_type": "stream",
     "text": [
      "             precision    recall  f1-score   support\n",
      "\n",
      "          0       0.93      0.81      0.87       117\n",
      "          1       0.79      0.92      0.85        90\n",
      "\n",
      "avg / total       0.87      0.86      0.86       207\n",
      "\n"
     ]
    }
   ],
   "source": [
    "print(classification_report(y_test, svc.predict(X_test)))\n"
   ]
  },
  {
   "cell_type": "code",
   "execution_count": 669,
   "metadata": {},
   "outputs": [
    {
     "data": {
      "image/png": "[encoded data removed]",
      "text/plain": [
       "<Figure size 432x288 with 2 Axes>"
      ]
     },
     "metadata": {},
     "output_type": "display_data"
    }
   ],
   "source": [
    "logreg_y_pred = logreg.predict(X_test)\n",
    "logreg_cm = metrics.confusion_matrix(logreg_y_pred, y_test, [1,0])\n",
    "sns.heatmap(logreg_cm, annot=True, fmt='.2f',xticklabels = [\"Hired\", \"Not\"] , yticklabels = [\"Hired\", \"Not\"] )\n",
    "plt.ylabel('True class')\n",
    "plt.xlabel('Predicted class')\n",
    "plt.title('Logistic Regression')\n",
    "plt.savefig('logistic_regression')"
   ]
  },
  {
   "cell_type": "markdown",
   "metadata": {},
   "source": [
    "# Support Vector Machine"
   ]
  },
  {
   "cell_type": "code",
   "execution_count": 665,
   "metadata": {},
   "outputs": [
    {
     "name": "stdout",
     "output_type": "stream",
     "text": [
      "             precision    recall  f1-score   support\n",
      "\n",
      "          0       0.93      0.81      0.87       117\n",
      "          1       0.79      0.92      0.85        90\n",
      "\n",
      "avg / total       0.87      0.86      0.86       207\n",
      "\n"
     ]
    }
   ],
   "source": [
    "print(classification_report(y_test, svc.predict(X_test)))"
   ]
  },
  {
   "cell_type": "code",
   "execution_count": 666,
   "metadata": {},
   "outputs": [
    {
     "data": {
      "image/png": "[encoded data removed]",
      "text/plain": [
       "<Figure size 432x288 with 2 Axes>"
      ]
     },
     "metadata": {},
     "output_type": "display_data"
    }
   ],
   "source": [
    "svc_y_pred = svc.predict(X_test)\n",
    "svc_cm = metrics.confusion_matrix(svc_y_pred, y_test, [1,0])\n",
    "sns.heatmap(svc_cm, annot=True, fmt='.2f', xticklabels = [\"Hired\", \"Not\"] , yticklabels = [\"Hired\", \"Not\"] )\n",
    "plt.ylabel('True class')\n",
    "plt.xlabel('Predicted class')\n",
    "plt.title('Support Vector Machine')\n",
    "plt.savefig('support_vector_machine')"
   ]
  },
  {
   "cell_type": "markdown",
   "metadata": {},
   "source": [
    "Firstly -All the models are pretty close.\n",
    "\n",
    "When a candidate is hired, how often does my classifier predict that correctly? This measurement is called “recall” and a quick look at these diagrams can demonstrate that Random Forrest is doing fairly for this criteria. Out of all the turnover cases, Random Forrest correctly retrieved 83 out of 90. \n",
    "This translates to a turnover “recall” of about 92% (83/90).\n",
    "\n",
    "When a classifier predicts an cadidate will et hired, how often does that employee actually hired? \n",
    "This measurement is called “precision”. Random Forrest is performing well here too."
   ]
  },
  {
   "cell_type": "markdown",
   "metadata": {},
   "source": [
    "# The ROC Curve"
   ]
  },
  {
   "cell_type": "code",
   "execution_count": 667,
   "metadata": {},
   "outputs": [
    {
     "data": {
      "image/png": "[encoded data removed]",
      "text/plain": [
       "<Figure size 432x288 with 1 Axes>"
      ]
     },
     "metadata": {},
     "output_type": "display_data"
    }
   ],
   "source": [
    "from sklearn.metrics import roc_auc_score\n",
    "from sklearn.metrics import roc_curve\n",
    "logit_roc_auc = roc_auc_score(y_test, logreg.predict(X_test))\n",
    "fpr, tpr, thresholds = roc_curve(y_test, logreg.predict_proba(X_test)[:,1])\n",
    "rf_roc_auc = roc_auc_score(y_test, rf.predict(X_test))\n",
    "rf_fpr, rf_tpr, rf_thresholds = roc_curve(y_test, rf.predict_proba(X_test)[:,1])\n",
    "plt.figure()\n",
    "plt.plot(fpr, tpr, label='Logistic Regression (area = %0.2f)' % logit_roc_auc)\n",
    "plt.plot(rf_fpr, rf_tpr, label='Random Forest (area = %0.2f)' % rf_roc_auc)\n",
    "plt.plot([0, 1], [0, 1],'r--')\n",
    "plt.xlim([0.0, 1.0])\n",
    "plt.ylim([0.0, 1.05])\n",
    "plt.xlabel('False Positive Rate')\n",
    "plt.ylabel('True Positive Rate')\n",
    "plt.title('Receiver operating characteristic')\n",
    "plt.legend(loc=\"lower right\")\n",
    "plt.savefig('ROC')\n",
    "plt.show()"
   ]
  },
  {
   "cell_type": "markdown",
   "metadata": {},
   "source": [
    "The receiver operating characteristic (ROC) curve is another common tool used with binary classifiers. \n",
    "The dotted line represents the ROC curve of a purely random classifier; \n",
    "a good classifier stays as far away from that line as possible (toward the top-left corner)."
   ]
  },
  {
   "cell_type": "markdown",
   "metadata": {},
   "source": [
    "# Feature Importance for Random Forest Model"
   ]
  },
  {
   "cell_type": "code",
   "execution_count": 670,
   "metadata": {},
   "outputs": [
    {
     "name": "stdout",
     "output_type": "stream",
     "text": [
      "C9_f-19.59%\n",
      "C10_t-22.71%\n",
      "C9_t-57.70%\n"
     ]
    }
   ],
   "source": [
    "feature_labels = np.array([ 'C9_t', 'C9_f', 'C10_t'])\n",
    "importance = rf.feature_importances_\n",
    "feature_indexes_by_importance = importance.argsort()\n",
    "for index in feature_indexes_by_importance:\n",
    "    print('{}-{:.2f}%'.format(feature_labels[index], (importance[index] *100.0)))"
   ]
  },
  {
   "cell_type": "markdown",
   "metadata": {},
   "source": [
    "According to our Random Forest model, \n",
    "the above shows the most important features which influence whether an candidate will be hired by the company, in ascending order."
   ]
  }
 ],
 "metadata": {
  "kernelspec": {
   "display_name": "Python 3",
   "language": "python",
   "name": "python3"
  },
  "language_info": {
   "codemirror_mode": {
    "name": "ipython",
    "version": 3
   },
   "file_extension": ".py",
   "mimetype": "text/x-python",
   "name": "python",
   "nbconvert_exporter": "python",
   "pygments_lexer": "ipython3",
   "version": "3.6.5"
  }
 },
 "nbformat": 4,
 "nbformat_minor": 2
}
